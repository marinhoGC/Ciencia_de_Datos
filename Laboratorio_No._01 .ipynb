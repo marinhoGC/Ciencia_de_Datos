{
 "cells": [
  {
   "cell_type": "markdown",
   "id": "687d13b0-cdd4-4eb8-8f3a-ca95e6ee6c80",
   "metadata": {},
   "source": [
    "Laboratorio #1 - (Git & Github)\n",
    "\n",
    "Jorge Mario García\n",
    "Investigación\n",
    "\n",
    "¿Qué es Git?\n",
    "GIT es un sistema que controla versiones de desarrollos para software y sus proyectos.  Este es un código abierto desarrollado por el inventor del sistema operativo LINUX.  El GIT, controla versiones desarrolladas que han sido trabajadas por diferentes talentos e individuos en entornos de desarrollo de sistemas.   Para esto, la información y desarrollo son almacenados en repositorios para tener trazabilidad de lo modificado de manera correcta.  \n",
    "\n",
    "¿Qué es GitHub?\n",
    "\n",
    "Básicamente es una plataforma o portal para la creación de aplicaciones y herramientas donde colaboran de manera abierta desarrolladores de códigos de sistemas informáticos.  En este se alojan los desarrollos elaborados y cualquiera puede colaborar y aportar al desarrollo de los códigos allí alojados.  \n",
    "\n",
    "¿MagicCells?\n",
    "Son comandos llamados de esa manera, que proporcionan de manera efectiva un mini lenguaje de comandos de la mano de la sintaxis de Python se extiende por el usuario con nuevos comandos. Estas están destinadas a ser escritas de forma interactiva, por lo que utilizan convenciones de línea de comandos, como utilizar espacios en blanco para separar los argumentos, guiones para opciones y otras convenciones típicas de un entorno de línea de comandos.\n"
   ]
  }
 ],
 "metadata": {
  "kernelspec": {
   "display_name": "Python 3 (ipykernel)",
   "language": "python",
   "name": "python3"
  },
  "language_info": {
   "codemirror_mode": {
    "name": "ipython",
    "version": 3
   },
   "file_extension": ".py",
   "mimetype": "text/x-python",
   "name": "python",
   "nbconvert_exporter": "python",
   "pygments_lexer": "ipython3",
   "version": "3.11.5"
  }
 },
 "nbformat": 4,
 "nbformat_minor": 5
}
